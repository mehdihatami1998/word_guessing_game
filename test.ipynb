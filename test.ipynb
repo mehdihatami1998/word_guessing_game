{
 "cells": [
  {
   "cell_type": "code",
   "execution_count": 6,
   "metadata": {},
   "outputs": [],
   "source": [
    "user_input = 22\n"
   ]
  },
  {
   "cell_type": "code",
   "execution_count": 12,
   "metadata": {},
   "outputs": [
    {
     "name": "stdout",
     "output_type": "stream",
     "text": [
      "You typed more than one letter. Please type only one letter.\n",
      "2\n"
     ]
    }
   ],
   "source": [
    "\n",
    "def get_user_input():\n",
    "    user_input = input(\"Guess which letter exists in the word: \")\n",
    "    if isinstance(user_input, str):\n",
    "        \n",
    "        if len(user_input) == 1:\n",
    "            input_letter = user_input.lower()\n",
    "            print(input_letter)\n",
    "            \n",
    "        elif len(user_input) == 0:\n",
    "            print(\"You didn't type anything. Please type a letter.\")\n",
    "            get_user_input()\n",
    "        elif len(user_input) > 1:\n",
    "            print(\"You typed more than one letter. Please type only one letter.\")\n",
    "            get_user_input()\n",
    "\n",
    "\n",
    "    else:\n",
    "        print(\"This is not a letter. Please type an English letter.\")\n",
    "        get_user_input()\n",
    "    \n",
    "\n",
    "if __name__ == \"__main__\":\n",
    "    get_user_input()\n",
    "\n"
   ]
  },
  {
   "cell_type": "code",
   "execution_count": 15,
   "metadata": {},
   "outputs": [],
   "source": [
    "value = isinstance(2, str)"
   ]
  },
  {
   "cell_type": "code",
   "execution_count": 16,
   "metadata": {},
   "outputs": [
    {
     "data": {
      "text/plain": [
       "False"
      ]
     },
     "execution_count": 16,
     "metadata": {},
     "output_type": "execute_result"
    }
   ],
   "source": [
    "value"
   ]
  },
  {
   "cell_type": "code",
   "execution_count": 17,
   "metadata": {},
   "outputs": [
    {
     "name": "stdout",
     "output_type": "stream",
     "text": [
      "yes\n"
     ]
    }
   ],
   "source": [
    "user_input = input('enter a letter here')\n",
    "if isinstance(user_input, str):\n",
    "    print('yes')\n",
    "else:\n",
    "    print('no')"
   ]
  },
  {
   "cell_type": "code",
   "execution_count": null,
   "metadata": {},
   "outputs": [],
   "source": []
  }
 ],
 "metadata": {
  "kernelspec": {
   "display_name": "base",
   "language": "python",
   "name": "python3"
  },
  "language_info": {
   "codemirror_mode": {
    "name": "ipython",
    "version": 3
   },
   "file_extension": ".py",
   "mimetype": "text/x-python",
   "name": "python",
   "nbconvert_exporter": "python",
   "pygments_lexer": "ipython3",
   "version": "3.9.7"
  },
  "orig_nbformat": 4
 },
 "nbformat": 4,
 "nbformat_minor": 2
}
